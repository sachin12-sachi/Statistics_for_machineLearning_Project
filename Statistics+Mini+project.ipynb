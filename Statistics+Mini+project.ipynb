{
 "cells": [
  {
   "cell_type": "markdown",
   "id": "5345e4e5",
   "metadata": {},
   "source": [
    "# Statistics Mini Project"
   ]
  },
  {
   "cell_type": "markdown",
   "id": "5f6efb22",
   "metadata": {},
   "source": [
    "<a id=\"lib\"></a>\n",
    "## 1. Import Libraries"
   ]
  },
  {
   "cell_type": "markdown",
   "id": "e4c5611c",
   "metadata": {},
   "source": [
    "**Let us import the required libraries.**"
   ]
  },
  {
   "cell_type": "code",
   "execution_count": 68,
   "id": "7f104974",
   "metadata": {},
   "outputs": [],
   "source": [
    "# import 'pandas' \n",
    "import pandas as pd \n",
    "\n",
    "# import 'numpy' \n",
    "import numpy as np\n",
    "\n",
    "# import subpackage of matplotlib\n",
    "import matplotlib.pyplot as plt\n",
    "\n",
    "# import 'seaborn'\n",
    "import seaborn as sns\n",
    "\n",
    "# to suppress warnings \n",
    "from warnings import filterwarnings\n",
    "filterwarnings('ignore')\n",
    "\n",
    "# import statsmodels\n",
    "import statsmodels.api as sm\n",
    "\n",
    "# import 'stats' package from scipy library\n",
    "from scipy import stats\n",
    "\n",
    "# import statistics to perform statistical computations\n",
    "import statistics\n",
    "\n",
    "# to test the normality \n",
    "from scipy.stats import shapiro\n",
    "\n",
    "# import a library to perform Z-test\n",
    "from statsmodels.stats import weightstats as stests\n",
    "\n",
    "# import random\n",
    "import random\n",
    "\n",
    "# import ztest \n",
    "from statsmodels.stats.weightstats import ztest\n"
   ]
  },
  {
   "cell_type": "code",
   "execution_count": 2,
   "id": "4c154799",
   "metadata": {},
   "outputs": [],
   "source": [
    "# set the plot size using 'rcParams'\n",
    "# once the plot size is set using 'rcParams', it sets the size of all the forthcoming plots in the file\n",
    "# pass width and height in inches to 'figure.figsize' \n",
    "plt.rcParams['figure.figsize'] = [15,8]"
   ]
  },
  {
   "cell_type": "markdown",
   "id": "c45c53bc",
   "metadata": {},
   "source": [
    "\n",
    "**1. Perform the following statistical analysis on the fifa world cup dataset. The dataset consists of player information which includes height, weight overall rating, potential etc. Data Cleaning and basic EDA process needs to be performed.**\n",
    "\n",
    "a) Assuming age as population, perform the central limit theorem with sample size of 200. Find the standard error and the mean of sampling distribution. Compare the results with population mean and standard deviation. Explain in non-technical terms why the estimated standard error of a sample mean tends to decrease with an increase in sample size\n",
    "\n",
    "b) Is there any evidence that the players overall rating is greater than 80?\n",
    "\n",
    "c) Perform the statistical test to identify whether preferred foot has any impact on potential. Also, perform the graphical analysis.\n",
    "\n",
    "d) Perform the statistical test to identify the relation between the overall rating and potential. [Assume both are continuous data points].\n",
    "\n",
    "e) Does skill move have any effect in overall rating. Perform the graphical analysis and the statistical analysis.\n"
   ]
  },
  {
   "cell_type": "markdown",
   "id": "7a538dad",
   "metadata": {},
   "source": [
    "**Note:**\n",
    "1) Perform all the Statistical analysis with 5%(Significance level).\\\n",
    "2) Perform the test of normality and test of variance in the appropriate places."
   ]
  },
  {
   "cell_type": "code",
   "execution_count": 3,
   "id": "63230212",
   "metadata": {
    "scrolled": false
   },
   "outputs": [
    {
     "data": {
      "text/html": [
       "<div>\n",
       "<style scoped>\n",
       "    .dataframe tbody tr th:only-of-type {\n",
       "        vertical-align: middle;\n",
       "    }\n",
       "\n",
       "    .dataframe tbody tr th {\n",
       "        vertical-align: top;\n",
       "    }\n",
       "\n",
       "    .dataframe thead th {\n",
       "        text-align: right;\n",
       "    }\n",
       "</style>\n",
       "<table border=\"1\" class=\"dataframe\">\n",
       "  <thead>\n",
       "    <tr style=\"text-align: right;\">\n",
       "      <th></th>\n",
       "      <th>Name</th>\n",
       "      <th>Age</th>\n",
       "      <th>Nationality</th>\n",
       "      <th>Overall_rating</th>\n",
       "      <th>Potential</th>\n",
       "      <th>Club</th>\n",
       "      <th>Preferred Foot</th>\n",
       "      <th>International Reputation</th>\n",
       "      <th>Weak Foot</th>\n",
       "      <th>Skill Moves</th>\n",
       "      <th>Work Rate</th>\n",
       "      <th>Position</th>\n",
       "      <th>Jersey Number</th>\n",
       "      <th>Height</th>\n",
       "      <th>Weight</th>\n",
       "    </tr>\n",
       "  </thead>\n",
       "  <tbody>\n",
       "    <tr>\n",
       "      <th>0</th>\n",
       "      <td>L. Messi</td>\n",
       "      <td>31</td>\n",
       "      <td>Argentina</td>\n",
       "      <td>94</td>\n",
       "      <td>94</td>\n",
       "      <td>FC Barcelona</td>\n",
       "      <td>Left</td>\n",
       "      <td>5</td>\n",
       "      <td>4</td>\n",
       "      <td>4</td>\n",
       "      <td>Medium/ Medium</td>\n",
       "      <td>RF</td>\n",
       "      <td>10</td>\n",
       "      <td>5.583333</td>\n",
       "      <td>159</td>\n",
       "    </tr>\n",
       "    <tr>\n",
       "      <th>1</th>\n",
       "      <td>Cristiano Ronaldo</td>\n",
       "      <td>33</td>\n",
       "      <td>Portugal</td>\n",
       "      <td>94</td>\n",
       "      <td>94</td>\n",
       "      <td>Juventus</td>\n",
       "      <td>Right</td>\n",
       "      <td>5</td>\n",
       "      <td>4</td>\n",
       "      <td>5</td>\n",
       "      <td>High/ Low</td>\n",
       "      <td>ST</td>\n",
       "      <td>7</td>\n",
       "      <td>6.166667</td>\n",
       "      <td>183</td>\n",
       "    </tr>\n",
       "    <tr>\n",
       "      <th>2</th>\n",
       "      <td>Neymar Jr</td>\n",
       "      <td>26</td>\n",
       "      <td>Brazil</td>\n",
       "      <td>92</td>\n",
       "      <td>93</td>\n",
       "      <td>Paris Saint-Germain</td>\n",
       "      <td>Right</td>\n",
       "      <td>5</td>\n",
       "      <td>5</td>\n",
       "      <td>5</td>\n",
       "      <td>High/ Medium</td>\n",
       "      <td>LW</td>\n",
       "      <td>10</td>\n",
       "      <td>5.750000</td>\n",
       "      <td>150</td>\n",
       "    </tr>\n",
       "    <tr>\n",
       "      <th>3</th>\n",
       "      <td>De Gea</td>\n",
       "      <td>27</td>\n",
       "      <td>Spain</td>\n",
       "      <td>91</td>\n",
       "      <td>93</td>\n",
       "      <td>Manchester United</td>\n",
       "      <td>Right</td>\n",
       "      <td>4</td>\n",
       "      <td>3</td>\n",
       "      <td>1</td>\n",
       "      <td>Medium/ Medium</td>\n",
       "      <td>GK</td>\n",
       "      <td>1</td>\n",
       "      <td>6.333333</td>\n",
       "      <td>168</td>\n",
       "    </tr>\n",
       "    <tr>\n",
       "      <th>4</th>\n",
       "      <td>K. De Bruyne</td>\n",
       "      <td>27</td>\n",
       "      <td>Belgium</td>\n",
       "      <td>91</td>\n",
       "      <td>92</td>\n",
       "      <td>Manchester City</td>\n",
       "      <td>Right</td>\n",
       "      <td>4</td>\n",
       "      <td>5</td>\n",
       "      <td>4</td>\n",
       "      <td>High/ High</td>\n",
       "      <td>RCM</td>\n",
       "      <td>7</td>\n",
       "      <td>5.083333</td>\n",
       "      <td>154</td>\n",
       "    </tr>\n",
       "  </tbody>\n",
       "</table>\n",
       "</div>"
      ],
      "text/plain": [
       "                Name  Age Nationality  Overall_rating  Potential  \\\n",
       "0           L. Messi   31   Argentina              94         94   \n",
       "1  Cristiano Ronaldo   33    Portugal              94         94   \n",
       "2          Neymar Jr   26      Brazil              92         93   \n",
       "3             De Gea   27       Spain              91         93   \n",
       "4       K. De Bruyne   27     Belgium              91         92   \n",
       "\n",
       "                  Club Preferred Foot  International Reputation  Weak Foot  \\\n",
       "0         FC Barcelona           Left                         5          4   \n",
       "1             Juventus          Right                         5          4   \n",
       "2  Paris Saint-Germain          Right                         5          5   \n",
       "3    Manchester United          Right                         4          3   \n",
       "4      Manchester City          Right                         4          5   \n",
       "\n",
       "   Skill Moves       Work Rate Position  Jersey Number    Height  Weight  \n",
       "0            4  Medium/ Medium       RF             10  5.583333     159  \n",
       "1            5       High/ Low       ST              7  6.166667     183  \n",
       "2            5    High/ Medium       LW             10  5.750000     150  \n",
       "3            1  Medium/ Medium       GK              1  6.333333     168  \n",
       "4            4      High/ High      RCM              7  5.083333     154  "
      ]
     },
     "execution_count": 3,
     "metadata": {},
     "output_type": "execute_result"
    }
   ],
   "source": [
    "df = pd.read_csv('fifa_stats.csv') \n",
    "df.head()"
   ]
  },
  {
   "cell_type": "code",
   "execution_count": 4,
   "id": "0e7ca533",
   "metadata": {},
   "outputs": [
    {
     "data": {
      "text/plain": [
       "(2000, 15)"
      ]
     },
     "execution_count": 4,
     "metadata": {},
     "output_type": "execute_result"
    }
   ],
   "source": [
    "df.shape"
   ]
  },
  {
   "cell_type": "code",
   "execution_count": 5,
   "id": "c0ea621b",
   "metadata": {
    "scrolled": true
   },
   "outputs": [
    {
     "name": "stdout",
     "output_type": "stream",
     "text": [
      "<class 'pandas.core.frame.DataFrame'>\n",
      "RangeIndex: 2000 entries, 0 to 1999\n",
      "Data columns (total 15 columns):\n",
      " #   Column                    Non-Null Count  Dtype  \n",
      "---  ------                    --------------  -----  \n",
      " 0   Name                      2000 non-null   object \n",
      " 1   Age                       2000 non-null   int64  \n",
      " 2   Nationality               2000 non-null   object \n",
      " 3   Overall_rating            2000 non-null   int64  \n",
      " 4   Potential                 2000 non-null   int64  \n",
      " 5   Club                      1981 non-null   object \n",
      " 6   Preferred Foot            2000 non-null   object \n",
      " 7   International Reputation  2000 non-null   int64  \n",
      " 8   Weak Foot                 2000 non-null   int64  \n",
      " 9   Skill Moves               2000 non-null   int64  \n",
      " 10  Work Rate                 2000 non-null   object \n",
      " 11  Position                  2000 non-null   object \n",
      " 12  Jersey Number             2000 non-null   int64  \n",
      " 13  Height                    2000 non-null   float64\n",
      " 14  Weight                    2000 non-null   int64  \n",
      "dtypes: float64(1), int64(8), object(6)\n",
      "memory usage: 234.5+ KB\n"
     ]
    }
   ],
   "source": [
    "df.info()"
   ]
  },
  {
   "cell_type": "code",
   "execution_count": 6,
   "id": "d66e01df",
   "metadata": {},
   "outputs": [],
   "source": [
    "df.dropna(inplace=True)"
   ]
  },
  {
   "cell_type": "code",
   "execution_count": 7,
   "id": "43851ba0",
   "metadata": {},
   "outputs": [],
   "source": [
    "df.rename(columns={\"Preferred Foot\":\"Preferred_Foot\", \"Skill Moves\":\"Skill_moves\"}, inplace=True)"
   ]
  },
  {
   "cell_type": "markdown",
   "id": "ee00facd",
   "metadata": {},
   "source": [
    "**a) Assuming age as population, perform the central limit theorem with sample size of 200. Find the standard error and the mean of sampling distribution. Compare the results with population mean and standard deviation. Explain in non-technical terms why the estimated standard error of a sample mean tends to decrease with an increase in sample size**"
   ]
  },
  {
   "cell_type": "code",
   "execution_count": 8,
   "id": "7f0970b8",
   "metadata": {},
   "outputs": [
    {
     "name": "stdout",
     "output_type": "stream",
     "text": [
      "Population Mean: 27.215547703180214\n",
      "Sampling Distribution Mean: 27.2008\n",
      "Population Standard Deviation: 3.8515461098126726\n",
      "Standard Error: 0.2723454372301208\n"
     ]
    }
   ],
   "source": [
    "sample_lst = []\n",
    "n = 200\n",
    "\n",
    "for i in range(50):\n",
    "    sample_lst.append(np.mean(random.sample(population=list(df['Age']), k=n)))\n",
    "\n",
    "sigma = np.std(df['Age'])\n",
    "se = sigma/np.sqrt(n)\n",
    "\n",
    "print(\"Population Mean:\", np.mean(df['Age']))\n",
    "print(\"Sampling Distribution Mean:\", np.mean(sample_lst))\n",
    "print(\"Population Standard Deviation:\", sigma)\n",
    "print(\"Standard Error:\", se)"
   ]
  },
  {
   "cell_type": "code",
   "execution_count": 9,
   "id": "fe90f235",
   "metadata": {},
   "outputs": [],
   "source": [
    "# The population mean and the sampling distribution mean are almost equal with a differnce of just a few decimal places.\n",
    "# As we increase the sample size, the Standard Error/Standard Deviation of the Sampling Distribution tends to decrease\n",
    "# because as we increase the sample size, the sample itself starts appropriating the population distribution and sample's\n",
    "# mean starts coming closer to the actual population mean.\n",
    "# And if we increase the sample size by enough such that it takes the shape of the population then the standard error\n",
    "# starts approaching zero."
   ]
  },
  {
   "cell_type": "markdown",
   "id": "3679faa9",
   "metadata": {},
   "source": [
    "**b) Is there any evidence that the players overall rating is greater than 80?**"
   ]
  },
  {
   "cell_type": "markdown",
   "id": "dd367a84",
   "metadata": {},
   "source": [
    "Ho: Players' overall rating <= 80\\\n",
    "H1: Players' overall rating > 80"
   ]
  },
  {
   "cell_type": "code",
   "execution_count": 10,
   "id": "2725a9de",
   "metadata": {},
   "outputs": [
    {
     "name": "stdout",
     "output_type": "stream",
     "text": [
      "Z Critical: 1.6448536269514722\n",
      "Z Statistic: -7.53750809919555\n",
      "CI 95%: (77.78865066709051, 78.7013493329095)\n",
      "pvalue 0.999999999999976\n"
     ]
    }
   ],
   "source": [
    "popmean = 80\n",
    "\n",
    "random.seed(42)\n",
    "sample_1 = random.sample(population=list(df['Overall_rating']), k=200)\n",
    "sigma = np.std(df['Overall_rating'])\n",
    "n = 200\n",
    "se = sigma/np.sqrt(n)\n",
    "xbar = np.mean(sample_1)\n",
    "\n",
    "inter = stats.norm.interval(0.95, loc=xbar, scale=se)\n",
    "stat = (xbar - popmean)/se\n",
    "z_crit = stats.norm.ppf(0.95)\n",
    "pval = stats.norm.sf(stat)\n",
    "\n",
    "print(\"Z Critical:\", z_crit)\n",
    "print(\"Z Statistic:\", stat)\n",
    "print(\"CI 95%:\", inter)\n",
    "print('pvalue',pval)"
   ]
  },
  {
   "cell_type": "code",
   "execution_count": 11,
   "id": "92b5663b",
   "metadata": {},
   "outputs": [],
   "source": [
    "# Fail to reject the null\n",
    "# Therefore, We can say that on average, Players have an overall rating of less than or equal to 80"
   ]
  },
  {
   "cell_type": "markdown",
   "id": "87831ce6",
   "metadata": {},
   "source": [
    "**c) Perform the statistical test to identify whether preferred foot has any impact on potential. Also, perform the graphical analysis.**"
   ]
  },
  {
   "cell_type": "markdown",
   "id": "cb937e07",
   "metadata": {},
   "source": [
    "Ho: Preferred Foot has no effect on Players' Potential\\\n",
    "H1: Preferred Foot has an effect on Players' Potential"
   ]
  },
  {
   "cell_type": "code",
   "execution_count": 12,
   "id": "db897029",
   "metadata": {
    "scrolled": true
   },
   "outputs": [
    {
     "data": {
      "text/html": [
       "<div>\n",
       "<style scoped>\n",
       "    .dataframe tbody tr th:only-of-type {\n",
       "        vertical-align: middle;\n",
       "    }\n",
       "\n",
       "    .dataframe tbody tr th {\n",
       "        vertical-align: top;\n",
       "    }\n",
       "\n",
       "    .dataframe thead th {\n",
       "        text-align: right;\n",
       "    }\n",
       "</style>\n",
       "<table border=\"1\" class=\"dataframe\">\n",
       "  <thead>\n",
       "    <tr style=\"text-align: right;\">\n",
       "      <th></th>\n",
       "      <th>df</th>\n",
       "      <th>sum_sq</th>\n",
       "      <th>mean_sq</th>\n",
       "      <th>F</th>\n",
       "      <th>PR(&gt;F)</th>\n",
       "    </tr>\n",
       "  </thead>\n",
       "  <tbody>\n",
       "    <tr>\n",
       "      <th>Preferred_Foot</th>\n",
       "      <td>1.0</td>\n",
       "      <td>45.107303</td>\n",
       "      <td>45.107303</td>\n",
       "      <td>2.662185</td>\n",
       "      <td>0.102919</td>\n",
       "    </tr>\n",
       "    <tr>\n",
       "      <th>Residual</th>\n",
       "      <td>1979.0</td>\n",
       "      <td>33531.616574</td>\n",
       "      <td>16.943717</td>\n",
       "      <td>NaN</td>\n",
       "      <td>NaN</td>\n",
       "    </tr>\n",
       "  </tbody>\n",
       "</table>\n",
       "</div>"
      ],
      "text/plain": [
       "                    df        sum_sq    mean_sq         F    PR(>F)\n",
       "Preferred_Foot     1.0     45.107303  45.107303  2.662185  0.102919\n",
       "Residual        1979.0  33531.616574  16.943717       NaN       NaN"
      ]
     },
     "execution_count": 12,
     "metadata": {},
     "output_type": "execute_result"
    }
   ],
   "source": [
    "model = sm.formula.ols(\"Potential ~ Preferred_Foot\", data=df).fit()\n",
    "sm.stats.anova_lm(model)"
   ]
  },
  {
   "cell_type": "code",
   "execution_count": 13,
   "id": "8a29f21a",
   "metadata": {},
   "outputs": [],
   "source": [
    "# Since, P value is greater than 0.05 significane level, We fail to reject the null\n",
    "# Therefore, we can say that Preferred Foot has no effect on Players' Potential"
   ]
  },
  {
   "cell_type": "code",
   "execution_count": 14,
   "id": "c374f7ea",
   "metadata": {
    "scrolled": true
   },
   "outputs": [
    {
     "data": {
      "image/png": "[encoded data removed]",
      "text/plain": [
       "<Figure size 1080x576 with 1 Axes>"
      ]
     },
     "metadata": {
      "needs_background": "light"
     },
     "output_type": "display_data"
    }
   ],
   "source": [
    "sns.boxplot(data=df, x='Preferred_Foot', y='Potential')\n",
    "plt.show()"
   ]
  },
  {
   "cell_type": "code",
   "execution_count": 15,
   "id": "fecab720",
   "metadata": {},
   "outputs": [],
   "source": [
    "# As we can see in the boxplot that preferred foot, does not affect player's potential"
   ]
  },
  {
   "cell_type": "markdown",
   "id": "78928c19",
   "metadata": {},
   "source": [
    "**d) Perform the statistical test to identify the relation between the overall rating and potential. [Assume both are continuous data points].**"
   ]
  },
  {
   "cell_type": "code",
   "execution_count": 69,
   "id": "4e04b787",
   "metadata": {},
   "outputs": [
    {
     "ename": "TypeError",
     "evalue": "'int' object is not subscriptable",
     "output_type": "error",
     "traceback": [
      "\u001b[1;31m---------------------------------------------------------------------------\u001b[0m",
      "\u001b[1;31mTypeError\u001b[0m                                 Traceback (most recent call last)",
      "\u001b[1;32m~\\AppData\\Local\\Temp/ipykernel_9476/181347450.py\u001b[0m in \u001b[0;36m<module>\u001b[1;34m\u001b[0m\n\u001b[1;32m----> 1\u001b[1;33m \u001b[0mshapiro\u001b[0m\u001b[1;33m(\u001b[0m\u001b[0mdf\u001b[0m\u001b[1;33m[\u001b[0m\u001b[1;34m'Overall_rating'\u001b[0m\u001b[1;33m]\u001b[0m\u001b[1;33m)\u001b[0m\u001b[1;33m\u001b[0m\u001b[1;33m\u001b[0m\u001b[0m\n\u001b[0m",
      "\u001b[1;31mTypeError\u001b[0m: 'int' object is not subscriptable"
     ]
    }
   ],
   "source": [
    "shapiro(df['Overall_rating'])"
   ]
  },
  {
   "cell_type": "code",
   "execution_count": 16,
   "id": "a9406cb4",
   "metadata": {
    "scrolled": true
   },
   "outputs": [
    {
     "data": {
      "text/html": [
       "<div>\n",
       "<style scoped>\n",
       "    .dataframe tbody tr th:only-of-type {\n",
       "        vertical-align: middle;\n",
       "    }\n",
       "\n",
       "    .dataframe tbody tr th {\n",
       "        vertical-align: top;\n",
       "    }\n",
       "\n",
       "    .dataframe thead th {\n",
       "        text-align: right;\n",
       "    }\n",
       "</style>\n",
       "<table border=\"1\" class=\"dataframe\">\n",
       "  <thead>\n",
       "    <tr style=\"text-align: right;\">\n",
       "      <th></th>\n",
       "      <th>Overall_rating</th>\n",
       "      <th>Potential</th>\n",
       "    </tr>\n",
       "  </thead>\n",
       "  <tbody>\n",
       "    <tr>\n",
       "      <th>Overall_rating</th>\n",
       "      <td>1.000000</td>\n",
       "      <td>0.732086</td>\n",
       "    </tr>\n",
       "    <tr>\n",
       "      <th>Potential</th>\n",
       "      <td>0.732086</td>\n",
       "      <td>1.000000</td>\n",
       "    </tr>\n",
       "  </tbody>\n",
       "</table>\n",
       "</div>"
      ],
      "text/plain": [
       "                Overall_rating  Potential\n",
       "Overall_rating        1.000000   0.732086\n",
       "Potential             0.732086   1.000000"
      ]
     },
     "execution_count": 16,
     "metadata": {},
     "output_type": "execute_result"
    }
   ],
   "source": [
    "df[['Overall_rating', 'Potential']].corr()"
   ]
  },
  {
   "cell_type": "code",
   "execution_count": 17,
   "id": "158739f0",
   "metadata": {},
   "outputs": [],
   "source": [
    "# Therefore, we can see that there is moderately high relation between the two variables"
   ]
  },
  {
   "cell_type": "markdown",
   "id": "0edf39d1",
   "metadata": {},
   "source": [
    "Ho: No effect of Potential on Overall Rating\\\n",
    "H1: There is an effect of Potential on Overall Rating"
   ]
  },
  {
   "cell_type": "code",
   "execution_count": 18,
   "id": "0731c50a",
   "metadata": {
    "scrolled": true
   },
   "outputs": [
    {
     "name": "stdout",
     "output_type": "stream",
     "text": [
      "P Value: 2.365099906058412e-71\n"
     ]
    }
   ],
   "source": [
    "teststats, pval = ztest(x1=df['Overall_rating'], x2=df['Potential'], value=0)\n",
    "print(\"P Value:\", pval)"
   ]
  },
  {
   "cell_type": "code",
   "execution_count": 19,
   "id": "429f809a",
   "metadata": {},
   "outputs": [],
   "source": [
    "# Reject the null\n",
    "# Therefore, we can say that potential has an effect no Overall Rating of the Player"
   ]
  },
  {
   "cell_type": "markdown",
   "id": "c285e982",
   "metadata": {},
   "source": [
    "**e) Does skill move have any effect in overall rating. Perform the graphical analysis and the statistical analysis.**"
   ]
  },
  {
   "cell_type": "code",
   "execution_count": 70,
   "id": "b75737a2",
   "metadata": {},
   "outputs": [
    {
     "ename": "TypeError",
     "evalue": "'int' object is not subscriptable",
     "output_type": "error",
     "traceback": [
      "\u001b[1;31m---------------------------------------------------------------------------\u001b[0m",
      "\u001b[1;31mTypeError\u001b[0m                                 Traceback (most recent call last)",
      "\u001b[1;32m~\\AppData\\Local\\Temp/ipykernel_9476/108762573.py\u001b[0m in \u001b[0;36m<module>\u001b[1;34m\u001b[0m\n\u001b[1;32m----> 1\u001b[1;33m \u001b[0mdf\u001b[0m\u001b[1;33m[\u001b[0m\u001b[1;34m'Overall_rating'\u001b[0m\u001b[1;33m]\u001b[0m\u001b[1;33m\u001b[0m\u001b[1;33m\u001b[0m\u001b[0m\n\u001b[0m",
      "\u001b[1;31mTypeError\u001b[0m: 'int' object is not subscriptable"
     ]
    }
   ],
   "source": [
    "df['Overall_rating']"
   ]
  },
  {
   "cell_type": "code",
   "execution_count": 20,
   "id": "9629ce4d",
   "metadata": {
    "scrolled": true
   },
   "outputs": [
    {
     "data": {
      "image/png": "[encoded data removed]",
      "text/plain": [
       "<Figure size 1080x576 with 1 Axes>"
      ]
     },
     "metadata": {
      "needs_background": "light"
     },
     "output_type": "display_data"
    }
   ],
   "source": [
    "sns.boxplot(df['Skill_moves'], df['Overall_rating']);"
   ]
  },
  {
   "cell_type": "code",
   "execution_count": 21,
   "id": "38e5c978",
   "metadata": {},
   "outputs": [],
   "source": [
    "## Players with skill moves 4 and 5 seem to have better overall rating than that of the other players."
   ]
  },
  {
   "cell_type": "markdown",
   "id": "247c5822",
   "metadata": {},
   "source": [
    "Ho: No effect of Skill moves on Overall Rating\\\n",
    "H1: There is an effect of Skill moves on Overall Rating\n"
   ]
  },
  {
   "cell_type": "code",
   "execution_count": 22,
   "id": "c5b78c27",
   "metadata": {
    "scrolled": true
   },
   "outputs": [
    {
     "data": {
      "text/html": [
       "<div>\n",
       "<style scoped>\n",
       "    .dataframe tbody tr th:only-of-type {\n",
       "        vertical-align: middle;\n",
       "    }\n",
       "\n",
       "    .dataframe tbody tr th {\n",
       "        vertical-align: top;\n",
       "    }\n",
       "\n",
       "    .dataframe thead th {\n",
       "        text-align: right;\n",
       "    }\n",
       "</style>\n",
       "<table border=\"1\" class=\"dataframe\">\n",
       "  <thead>\n",
       "    <tr style=\"text-align: right;\">\n",
       "      <th></th>\n",
       "      <th>df</th>\n",
       "      <th>sum_sq</th>\n",
       "      <th>mean_sq</th>\n",
       "      <th>F</th>\n",
       "      <th>PR(&gt;F)</th>\n",
       "    </tr>\n",
       "  </thead>\n",
       "  <tbody>\n",
       "    <tr>\n",
       "      <th>Skill_moves</th>\n",
       "      <td>1.0</td>\n",
       "      <td>148.098437</td>\n",
       "      <td>148.098437</td>\n",
       "      <td>13.74004</td>\n",
       "      <td>0.000216</td>\n",
       "    </tr>\n",
       "    <tr>\n",
       "      <th>Residual</th>\n",
       "      <td>1979.0</td>\n",
       "      <td>21330.855627</td>\n",
       "      <td>10.778603</td>\n",
       "      <td>NaN</td>\n",
       "      <td>NaN</td>\n",
       "    </tr>\n",
       "  </tbody>\n",
       "</table>\n",
       "</div>"
      ],
      "text/plain": [
       "                 df        sum_sq     mean_sq         F    PR(>F)\n",
       "Skill_moves     1.0    148.098437  148.098437  13.74004  0.000216\n",
       "Residual     1979.0  21330.855627   10.778603       NaN       NaN"
      ]
     },
     "execution_count": 22,
     "metadata": {},
     "output_type": "execute_result"
    }
   ],
   "source": [
    "model = sm.formula.ols(\"Overall_rating ~ Skill_moves\", data=df).fit()\n",
    "sm.stats.anova_lm(model)"
   ]
  },
  {
   "cell_type": "code",
   "execution_count": 23,
   "id": "442a150c",
   "metadata": {
    "scrolled": true
   },
   "outputs": [
    {
     "data": {
      "text/html": [
       "<table class=\"simpletable\">\n",
       "<caption>Multiple Comparison of Means - Tukey HSD, FWER=0.05</caption>\n",
       "<tr>\n",
       "  <th>group1</th> <th>group2</th> <th>meandiff</th>  <th>p-adj</th>  <th>lower</th>   <th>upper</th>  <th>reject</th>\n",
       "</tr>\n",
       "<tr>\n",
       "     <td>1</td>      <td>2</td>    <td>-0.7167</td> <td>0.0819</td> <td>-1.4861</td> <td>0.0527</td>   <td>False</td>\n",
       "</tr>\n",
       "<tr>\n",
       "     <td>1</td>      <td>3</td>    <td>-1.1788</td>  <td>0.001</td> <td>-1.8792</td> <td>-0.4783</td>  <td>True</td> \n",
       "</tr>\n",
       "<tr>\n",
       "     <td>1</td>      <td>4</td>    <td>0.0997</td>    <td>0.9</td>  <td>-0.6343</td> <td>0.8336</td>   <td>False</td>\n",
       "</tr>\n",
       "<tr>\n",
       "     <td>1</td>      <td>5</td>     <td>3.486</td>   <td>0.001</td> <td>1.9518</td>  <td>5.0201</td>   <td>True</td> \n",
       "</tr>\n",
       "<tr>\n",
       "     <td>2</td>      <td>3</td>    <td>-0.462</td>  <td>0.1292</td> <td>-0.9986</td> <td>0.0745</td>   <td>False</td>\n",
       "</tr>\n",
       "<tr>\n",
       "     <td>2</td>      <td>4</td>    <td>0.8164</td>  <td>0.0012</td> <td>0.2368</td>   <td>1.396</td>   <td>True</td> \n",
       "</tr>\n",
       "<tr>\n",
       "     <td>2</td>      <td>5</td>    <td>4.2027</td>   <td>0.001</td> <td>2.7361</td>  <td>5.6693</td>   <td>True</td> \n",
       "</tr>\n",
       "<tr>\n",
       "     <td>3</td>      <td>4</td>    <td>1.2784</td>   <td>0.001</td> <td>0.7941</td>  <td>1.7627</td>   <td>True</td> \n",
       "</tr>\n",
       "<tr>\n",
       "     <td>3</td>      <td>5</td>    <td>4.6648</td>   <td>0.001</td> <td>3.2331</td>  <td>6.0964</td>   <td>True</td> \n",
       "</tr>\n",
       "<tr>\n",
       "     <td>4</td>      <td>5</td>    <td>3.3863</td>   <td>0.001</td>  <td>1.938</td>  <td>4.8346</td>   <td>True</td> \n",
       "</tr>\n",
       "</table>"
      ],
      "text/plain": [
       "<class 'statsmodels.iolib.table.SimpleTable'>"
      ]
     },
     "execution_count": 23,
     "metadata": {},
     "output_type": "execute_result"
    }
   ],
   "source": [
    "analysis = sm.stats.multicomp.MultiComparison(data=df['Overall_rating'], groups=df['Skill_moves'])\n",
    "\n",
    "pc = analysis.tukeyhsd()\n",
    "pc.summary()"
   ]
  },
  {
   "cell_type": "code",
   "execution_count": 24,
   "id": "f79b9e68",
   "metadata": {},
   "outputs": [],
   "source": [
    "## Hence we can clearly state that differnt group of skill moves have varrying contribution to the player's rating, \n",
    "#thus both the mentioned columns aren't independent, as proved statistically.\n"
   ]
  },
  {
   "cell_type": "markdown",
   "id": "cda2a51a",
   "metadata": {},
   "source": [
    "**2. Perform the following statistical analysis on the mobile network dataset given. The given data set contains information about the internet, calls, messages of various network. Data Cleaning and basic EDA process needs to be performed.**\n",
    "\n",
    "a) With 95% & 99% Confidence Interval find the range estimate of average duration calls made by all the network. Which of the Intervals are wider? Interpret the results.\\\n",
    "b) Perform statistical analysis to check whether the networks are equally distributed in the dataset.\\\n",
    "c) Plot the distribution of duration with respect to each network in the same graph and Interpret the results from the graph.\\\n",
    "d)\tPerform statistical tests to identify the relation between item and duration. Detailed \n",
    "explanation of relation between the classes is required.\\\n",
    "e)\tPerform statistical tests to identify the relation between network and network_type. \n",
    "\n",
    "\n",
    "**Note:**\n",
    "1) Perform all the Statistical analysis with 5%(Significance level).\\\n",
    "2) Perform the test of normality and test of variance in the appropriate places.\n"
   ]
  },
  {
   "cell_type": "code",
   "execution_count": 25,
   "id": "c9ab346f",
   "metadata": {
    "scrolled": true
   },
   "outputs": [
    {
     "data": {
      "text/html": [
       "<div>\n",
       "<style scoped>\n",
       "    .dataframe tbody tr th:only-of-type {\n",
       "        vertical-align: middle;\n",
       "    }\n",
       "\n",
       "    .dataframe tbody tr th {\n",
       "        vertical-align: top;\n",
       "    }\n",
       "\n",
       "    .dataframe thead th {\n",
       "        text-align: right;\n",
       "    }\n",
       "</style>\n",
       "<table border=\"1\" class=\"dataframe\">\n",
       "  <thead>\n",
       "    <tr style=\"text-align: right;\">\n",
       "      <th></th>\n",
       "      <th>date</th>\n",
       "      <th>duration</th>\n",
       "      <th>item</th>\n",
       "      <th>month</th>\n",
       "      <th>network</th>\n",
       "      <th>network_type</th>\n",
       "    </tr>\n",
       "  </thead>\n",
       "  <tbody>\n",
       "    <tr>\n",
       "      <th>0</th>\n",
       "      <td>15-10-14 6:58</td>\n",
       "      <td>221.321120</td>\n",
       "      <td>data</td>\n",
       "      <td>2014-11</td>\n",
       "      <td>data</td>\n",
       "      <td>data</td>\n",
       "    </tr>\n",
       "    <tr>\n",
       "      <th>1</th>\n",
       "      <td>15-10-14 6:58</td>\n",
       "      <td>81.610599</td>\n",
       "      <td>call</td>\n",
       "      <td>2014-11</td>\n",
       "      <td>Vodafone</td>\n",
       "      <td>mobile</td>\n",
       "    </tr>\n",
       "    <tr>\n",
       "      <th>2</th>\n",
       "      <td>15-10-14 14:46</td>\n",
       "      <td>143.109111</td>\n",
       "      <td>call</td>\n",
       "      <td>2014-11</td>\n",
       "      <td>Meteor</td>\n",
       "      <td>mobile</td>\n",
       "    </tr>\n",
       "    <tr>\n",
       "      <th>3</th>\n",
       "      <td>15-10-14 14:48</td>\n",
       "      <td>111.888670</td>\n",
       "      <td>call</td>\n",
       "      <td>2014-11</td>\n",
       "      <td>Tesco</td>\n",
       "      <td>mobile</td>\n",
       "    </tr>\n",
       "    <tr>\n",
       "      <th>4</th>\n",
       "      <td>15-10-14 17:27</td>\n",
       "      <td>246.695171</td>\n",
       "      <td>call</td>\n",
       "      <td>2014-11</td>\n",
       "      <td>Tesco</td>\n",
       "      <td>mobile</td>\n",
       "    </tr>\n",
       "  </tbody>\n",
       "</table>\n",
       "</div>"
      ],
      "text/plain": [
       "             date    duration  item    month   network network_type\n",
       "0   15-10-14 6:58  221.321120  data  2014-11      data         data\n",
       "1   15-10-14 6:58   81.610599  call  2014-11  Vodafone       mobile\n",
       "2  15-10-14 14:46  143.109111  call  2014-11    Meteor       mobile\n",
       "3  15-10-14 14:48  111.888670  call  2014-11     Tesco       mobile\n",
       "4  15-10-14 17:27  246.695171  call  2014-11     Tesco       mobile"
      ]
     },
     "execution_count": 25,
     "metadata": {},
     "output_type": "execute_result"
    }
   ],
   "source": [
    "mob = pd.read_csv(\"phone.csv\")\n",
    "mob.head()"
   ]
  },
  {
   "cell_type": "code",
   "execution_count": 26,
   "id": "74be10d4",
   "metadata": {
    "scrolled": true
   },
   "outputs": [
    {
     "data": {
      "text/plain": [
       "(820, 6)"
      ]
     },
     "execution_count": 26,
     "metadata": {},
     "output_type": "execute_result"
    }
   ],
   "source": [
    "mob.shape"
   ]
  },
  {
   "cell_type": "code",
   "execution_count": 27,
   "id": "0e8b68af",
   "metadata": {
    "scrolled": true
   },
   "outputs": [
    {
     "data": {
      "text/plain": [
       "date            0\n",
       "duration        0\n",
       "item            0\n",
       "month           0\n",
       "network         0\n",
       "network_type    0\n",
       "dtype: int64"
      ]
     },
     "execution_count": 27,
     "metadata": {},
     "output_type": "execute_result"
    }
   ],
   "source": [
    "mob.isna().sum()"
   ]
  },
  {
   "cell_type": "code",
   "execution_count": 28,
   "id": "493bd256",
   "metadata": {
    "scrolled": true
   },
   "outputs": [
    {
     "name": "stdout",
     "output_type": "stream",
     "text": [
      "<class 'pandas.core.frame.DataFrame'>\n",
      "RangeIndex: 820 entries, 0 to 819\n",
      "Data columns (total 6 columns):\n",
      " #   Column        Non-Null Count  Dtype  \n",
      "---  ------        --------------  -----  \n",
      " 0   date          820 non-null    object \n",
      " 1   duration      820 non-null    float64\n",
      " 2   item          820 non-null    object \n",
      " 3   month         820 non-null    object \n",
      " 4   network       820 non-null    object \n",
      " 5   network_type  820 non-null    object \n",
      "dtypes: float64(1), object(5)\n",
      "memory usage: 38.6+ KB\n"
     ]
    }
   ],
   "source": [
    "mob.info()"
   ]
  },
  {
   "cell_type": "code",
   "execution_count": 29,
   "id": "18febde4",
   "metadata": {},
   "outputs": [],
   "source": [
    "mob['date'] = pd.to_datetime(mob['date'])"
   ]
  },
  {
   "cell_type": "code",
   "execution_count": 30,
   "id": "d9526987",
   "metadata": {},
   "outputs": [],
   "source": [
    "mob['month'] = pd.to_datetime(mob['month']).dt.month"
   ]
  },
  {
   "cell_type": "code",
   "execution_count": 31,
   "id": "0be36eb6",
   "metadata": {
    "scrolled": true
   },
   "outputs": [
    {
     "name": "stdout",
     "output_type": "stream",
     "text": [
      "<class 'pandas.core.frame.DataFrame'>\n",
      "RangeIndex: 820 entries, 0 to 819\n",
      "Data columns (total 6 columns):\n",
      " #   Column        Non-Null Count  Dtype         \n",
      "---  ------        --------------  -----         \n",
      " 0   date          820 non-null    datetime64[ns]\n",
      " 1   duration      820 non-null    float64       \n",
      " 2   item          820 non-null    object        \n",
      " 3   month         820 non-null    int64         \n",
      " 4   network       820 non-null    object        \n",
      " 5   network_type  820 non-null    object        \n",
      "dtypes: datetime64[ns](1), float64(1), int64(1), object(3)\n",
      "memory usage: 38.6+ KB\n"
     ]
    }
   ],
   "source": [
    "mob.info()"
   ]
  },
  {
   "cell_type": "markdown",
   "id": "b02a0f94",
   "metadata": {},
   "source": [
    "**a) With 95% & 99% Confidence Interval, find the range estimate of average duration calls made by the entire network. Which of the Intervals are wider? Interpret the results.**"
   ]
  },
  {
   "cell_type": "code",
   "execution_count": 43,
   "id": "800484c4",
   "metadata": {},
   "outputs": [
    {
     "data": {
      "text/plain": [
       "ShapiroResult(statistic=0.9984679818153381, pvalue=0.701244592666626)"
      ]
     },
     "execution_count": 43,
     "metadata": {},
     "output_type": "execute_result"
    }
   ],
   "source": [
    "shapiro(mob['duration'])"
   ]
  },
  {
   "cell_type": "code",
   "execution_count": 32,
   "id": "38933a78",
   "metadata": {
    "scrolled": true
   },
   "outputs": [
    {
     "name": "stdout",
     "output_type": "stream",
     "text": [
      "CI 95%: (54.81315656633359, 233.79671455333732)\n",
      "CI 99%: (26.692801573465673, 261.91706954620525)\n"
     ]
    }
   ],
   "source": [
    "mu = np.mean(mob['duration'])\n",
    "sigma = np.std(mob['duration'])\n",
    "\n",
    "interval_1 = stats.norm.interval(0.95, loc=mu, scale=sigma)\n",
    "interval_2 = stats.norm.interval(0.99, loc=mu, scale=sigma)\n",
    "print(\"CI 95%:\", interval_1)\n",
    "print(\"CI 99%:\", interval_2)"
   ]
  },
  {
   "cell_type": "code",
   "execution_count": 33,
   "id": "ed0e06bb",
   "metadata": {},
   "outputs": [],
   "source": [
    "# The 99% confidence interval is wider than the 95% confidence interval\n",
    "# As we increase our confidence level, we lose our accuracy for the estimation of our range\n",
    "# and hence get a wider spread interval."
   ]
  },
  {
   "cell_type": "markdown",
   "id": "6c5c96ac",
   "metadata": {},
   "source": [
    "**b) Perform statistical analysis to check whether the networks are equally distributed in the dataset.**"
   ]
  },
  {
   "cell_type": "markdown",
   "id": "691b41ed",
   "metadata": {},
   "source": [
    "Ho: Networks are present in equal proportions\\\n",
    "H1: Networks are disproportionately spread"
   ]
  },
  {
   "cell_type": "code",
   "execution_count": 34,
   "id": "fed30306",
   "metadata": {
    "scrolled": true
   },
   "outputs": [
    {
     "data": {
      "text/html": [
       "<div>\n",
       "<style scoped>\n",
       "    .dataframe tbody tr th:only-of-type {\n",
       "        vertical-align: middle;\n",
       "    }\n",
       "\n",
       "    .dataframe tbody tr th {\n",
       "        vertical-align: top;\n",
       "    }\n",
       "\n",
       "    .dataframe thead th {\n",
       "        text-align: right;\n",
       "    }\n",
       "</style>\n",
       "<table border=\"1\" class=\"dataframe\">\n",
       "  <thead>\n",
       "    <tr style=\"text-align: right;\">\n",
       "      <th></th>\n",
       "      <th>Vodafone</th>\n",
       "      <th>Three</th>\n",
       "      <th>data</th>\n",
       "      <th>Meteor</th>\n",
       "      <th>Tesco</th>\n",
       "      <th>landline</th>\n",
       "      <th>voicemail</th>\n",
       "    </tr>\n",
       "  </thead>\n",
       "  <tbody>\n",
       "    <tr>\n",
       "      <th>network</th>\n",
       "      <td>215</td>\n",
       "      <td>215</td>\n",
       "      <td>150</td>\n",
       "      <td>87</td>\n",
       "      <td>84</td>\n",
       "      <td>42</td>\n",
       "      <td>27</td>\n",
       "    </tr>\n",
       "  </tbody>\n",
       "</table>\n",
       "</div>"
      ],
      "text/plain": [
       "         Vodafone  Three  data  Meteor  Tesco  landline  voicemail\n",
       "network       215    215   150      87     84        42         27"
      ]
     },
     "execution_count": 34,
     "metadata": {},
     "output_type": "execute_result"
    }
   ],
   "source": [
    "net = pd.DataFrame(mob['network'].value_counts()).T\n",
    "net"
   ]
  },
  {
   "cell_type": "code",
   "execution_count": 35,
   "id": "ed15fc01",
   "metadata": {
    "scrolled": true
   },
   "outputs": [
    {
     "name": "stdout",
     "output_type": "stream",
     "text": [
      "P Value: 1.0\n"
     ]
    }
   ],
   "source": [
    "teststats, pval, df, exp_value = stats.chi2_contingency(net)\n",
    "print(\"P Value:\", pval)"
   ]
  },
  {
   "cell_type": "code",
   "execution_count": 36,
   "id": "968b1a73",
   "metadata": {},
   "outputs": [],
   "source": [
    "# Reject the null\n",
    "# Therefore, we can say that the spread of networks is disproportionate"
   ]
  },
  {
   "cell_type": "markdown",
   "id": "5860af67",
   "metadata": {},
   "source": [
    "**c) Plot the distribution of duration with respect to each network in the same graph and interpret the results from the graph.**"
   ]
  },
  {
   "cell_type": "code",
   "execution_count": 62,
   "id": "e546bb47",
   "metadata": {},
   "outputs": [
    {
     "data": {
      "text/plain": [
       "<seaborn.axisgrid.FacetGrid at 0x2dfc6608d60>"
      ]
     },
     "execution_count": 62,
     "metadata": {},
     "output_type": "execute_result"
    },
    {
     "data": {
      "image/png": "[encoded data removed]",
      "text/plain": [
       "<Figure size 443.875x360 with 1 Axes>"
      ]
     },
     "metadata": {
      "needs_background": "light"
     },
     "output_type": "display_data"
    }
   ],
   "source": [
    "sns.displot(data=mob, hue='network', x='duration',kind='kde',height=5)"
   ]
  },
  {
   "cell_type": "code",
   "execution_count": 37,
   "id": "a6870883",
   "metadata": {
    "scrolled": false
   },
   "outputs": [
    {
     "data": {
      "image/png": "[encoded data removed]",
      "text/plain": [
       "<Figure size 1080x576 with 1 Axes>"
      ]
     },
     "metadata": {
      "needs_background": "light"
     },
     "output_type": "display_data"
    }
   ],
   "source": [
    "sns.boxplot(data=mob, x='network', y='duration')\n",
    "plt.show()"
   ]
  },
  {
   "cell_type": "code",
   "execution_count": 38,
   "id": "53a2950d",
   "metadata": {},
   "outputs": [],
   "source": [
    "# The median value and distribution of duration is almost the same for all networks\n",
    "# Except Voicemail and landline\n",
    "# Voicemail typically has higher call duration with more spread\n",
    "# and landline typically has lower call duration."
   ]
  },
  {
   "cell_type": "markdown",
   "id": "6ba005a6",
   "metadata": {},
   "source": [
    "**d) Perform statistical tests to identify the relation between item and duration. Detailed explanation of relation between the classes is required.**"
   ]
  },
  {
   "cell_type": "markdown",
   "id": "dbaf0cb5",
   "metadata": {},
   "source": [
    "Ho: No effect of item on duration\\\n",
    "H1: There is an effect of item on duration"
   ]
  },
  {
   "cell_type": "code",
   "execution_count": 58,
   "id": "87734a96",
   "metadata": {},
   "outputs": [
    {
     "data": {
      "text/plain": [
       "ShapiroResult(statistic=0.9984679818153381, pvalue=0.701244592666626)"
      ]
     },
     "execution_count": 58,
     "metadata": {},
     "output_type": "execute_result"
    }
   ],
   "source": [
    "shapiro(mob['duration'])\n"
   ]
  },
  {
   "cell_type": "code",
   "execution_count": 39,
   "id": "e6c1aa3c",
   "metadata": {
    "scrolled": true
   },
   "outputs": [
    {
     "data": {
      "text/html": [
       "<div>\n",
       "<style scoped>\n",
       "    .dataframe tbody tr th:only-of-type {\n",
       "        vertical-align: middle;\n",
       "    }\n",
       "\n",
       "    .dataframe tbody tr th {\n",
       "        vertical-align: top;\n",
       "    }\n",
       "\n",
       "    .dataframe thead th {\n",
       "        text-align: right;\n",
       "    }\n",
       "</style>\n",
       "<table border=\"1\" class=\"dataframe\">\n",
       "  <thead>\n",
       "    <tr style=\"text-align: right;\">\n",
       "      <th></th>\n",
       "      <th>df</th>\n",
       "      <th>sum_sq</th>\n",
       "      <th>mean_sq</th>\n",
       "      <th>F</th>\n",
       "      <th>PR(&gt;F)</th>\n",
       "    </tr>\n",
       "  </thead>\n",
       "  <tbody>\n",
       "    <tr>\n",
       "      <th>item</th>\n",
       "      <td>2.0</td>\n",
       "      <td>8.044792e+03</td>\n",
       "      <td>4022.395964</td>\n",
       "      <td>1.931396</td>\n",
       "      <td>0.145607</td>\n",
       "    </tr>\n",
       "    <tr>\n",
       "      <th>Residual</th>\n",
       "      <td>817.0</td>\n",
       "      <td>1.701514e+06</td>\n",
       "      <td>2082.636053</td>\n",
       "      <td>NaN</td>\n",
       "      <td>NaN</td>\n",
       "    </tr>\n",
       "  </tbody>\n",
       "</table>\n",
       "</div>"
      ],
      "text/plain": [
       "             df        sum_sq      mean_sq         F    PR(>F)\n",
       "item        2.0  8.044792e+03  4022.395964  1.931396  0.145607\n",
       "Residual  817.0  1.701514e+06  2082.636053       NaN       NaN"
      ]
     },
     "execution_count": 39,
     "metadata": {},
     "output_type": "execute_result"
    }
   ],
   "source": [
    "model = sm.formula.ols(\"duration ~ item\", data=mob).fit()\n",
    "sm.stats.anova_lm(model)"
   ]
  },
  {
   "cell_type": "code",
   "execution_count": 40,
   "id": "290b296f",
   "metadata": {},
   "outputs": [],
   "source": [
    "# Fail to reject the null\n",
    "# Therefore, We can say that there is no effect of item on duration of the call"
   ]
  },
  {
   "cell_type": "markdown",
   "id": "cb63996e",
   "metadata": {},
   "source": [
    "**e) Perform statistical tests to identify the relation between network and network_type.**"
   ]
  },
  {
   "cell_type": "markdown",
   "id": "99182815",
   "metadata": {},
   "source": [
    "Ho: Network types are equally spread across all the networks\\\n",
    "H1: Network types are un-equally spread across all the networks"
   ]
  },
  {
   "cell_type": "code",
   "execution_count": 41,
   "id": "e3f35489",
   "metadata": {},
   "outputs": [
    {
     "name": "stdout",
     "output_type": "stream",
     "text": [
      "network       Meteor  Tesco  Three  Vodafone  data  landline  voicemail\n",
      "network_type                                                           \n",
      "data               0      0      0         0   150         0          0\n",
      "landline           0      0      0         0     0        42          0\n",
      "mobile            87     84    215       215     0         0          0\n",
      "voicemail          0      0      0         0     0         0         27\n",
      "P Value: 0.0\n"
     ]
    }
   ],
   "source": [
    "tbl = pd.crosstab(mob['network_type'], mob['network'])\n",
    "\n",
    "print(tbl)\n",
    "teststats, pval, df, exp_val = stats.chi2_contingency(tbl)\n",
    "print(\"P Value:\", pval)"
   ]
  },
  {
   "cell_type": "code",
   "execution_count": 42,
   "id": "883e659a",
   "metadata": {},
   "outputs": [],
   "source": [
    "# Reject the null\n",
    "# Therefore, we can say that Network types are un-equally spread across all the networks"
   ]
  }
 ],
 "metadata": {
  "kernelspec": {
   "display_name": "Python 3 (ipykernel)",
   "language": "python",
   "name": "python3"
  },
  "language_info": {
   "codemirror_mode": {
    "name": "ipython",
    "version": 3
   },
   "file_extension": ".py",
   "mimetype": "text/x-python",
   "name": "python",
   "nbconvert_exporter": "python",
   "pygments_lexer": "ipython3",
   "version": "3.9.7"
  }
 },
 "nbformat": 4,
 "nbformat_minor": 5
}
